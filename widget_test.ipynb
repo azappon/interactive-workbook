{
 "cells": [
  {
   "cell_type": "code",
   "execution_count": 3,
   "metadata": {},
   "outputs": [],
   "source": [
    "import pandas\n",
    "import pickle\n",
    "import matplotlib.pyplot as plt\n",
    "import seaborn as sns\n",
    "from ipywidgets import interact, Dropdown"
   ]
  },
  {
   "cell_type": "code",
   "execution_count": 2,
   "metadata": {},
   "outputs": [],
   "source": [
    "# Later, you can load these objects back\n",
    "with open('finance_data.pkl', 'rb') as f:\n",
    "    data = pickle.load(f)\n",
    "    summary_df = data['summary_df']\n",
    "    benchmark1 = data['benchmark1']\n",
    "    funds = data['funds']"
   ]
  },
  {
   "cell_type": "code",
   "execution_count": 4,
   "metadata": {},
   "outputs": [],
   "source": [
    "def plot_ret_distribution_interactive(df_returns, benchmark=None, peers=None):\n",
    "    def update_plot(fund_name):\n",
    "        fig, ax = plt.subplots(figsize=(10, 6))\n",
    "        sns.boxplot(data=df_returns, palette='Set2')\n",
    "        \n",
    "        # Ensure fund_name is in the index\n",
    "        if fund_name in df_returns.index:\n",
    "            fund_row = df_returns.loc[fund_name]\n",
    "            num_variables = len(df_returns.columns)\n",
    "            ax.scatter(x=range(num_variables), y=fund_row, color='red', label=fund_name)\n",
    "            \n",
    "            # Handle benchmark\n",
    "            if benchmark is not None and benchmark.name in df_returns.index:\n",
    "                benchmark_row = df_returns.loc[benchmark.name]\n",
    "                ax.scatter(x=range(num_variables), y=benchmark_row, color='blue', label=\"Benchmark\")\n",
    "            \n",
    "            # Handle peers\n",
    "            if peers is not None and not peers.empty:\n",
    "                # Calculate peers' mean for each metric\n",
    "                peers_mean = peers.mean(axis=1)\n",
    "                if peers_mean.name in df_returns.index:\n",
    "                    ax.scatter(x=range(num_variables), y=peers_mean, color='yellow', label=\"Peers\")\n",
    "            \n",
    "            ax.legend()\n",
    "            plt.show()\n",
    "        else:\n",
    "            print(\"Fund name not found in the DataFrame.\")\n",
    "    \n",
    "    fund_names = df_returns.index.tolist()\n",
    "    dropdown = Dropdown(options=fund_names, description='Fund Name:')\n",
    "    \n",
    "    interact(update_plot, fund_name=dropdown)"
   ]
  },
  {
   "cell_type": "code",
   "execution_count": 5,
   "metadata": {},
   "outputs": [
    {
     "data": {
      "application/vnd.jupyter.widget-view+json": {
       "model_id": "6c7a08f89b8d43248f907b696733c6a5",
       "version_major": 2,
       "version_minor": 0
      },
      "text/plain": [
       "interactive(children=(Dropdown(description='Fund Name:', options=(' Bloomberg Global High Yield Index', 'Bloom…"
      ]
     },
     "metadata": {},
     "output_type": "display_data"
    }
   ],
   "source": [
    "plot_ret_distribution_interactive(df_returns=summary_df.iloc[:,0:3], benchmark=benchmark1, peers=funds)"
   ]
  }
 ],
 "metadata": {
  "kernelspec": {
   "display_name": "venv",
   "language": "python",
   "name": "python3"
  },
  "language_info": {
   "codemirror_mode": {
    "name": "ipython",
    "version": 3
   },
   "file_extension": ".py",
   "mimetype": "text/x-python",
   "name": "python",
   "nbconvert_exporter": "python",
   "pygments_lexer": "ipython3",
   "version": "3.12.1"
  }
 },
 "nbformat": 4,
 "nbformat_minor": 2
}
